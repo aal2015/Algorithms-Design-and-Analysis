{
 "cells": [
  {
   "cell_type": "markdown",
   "id": "2c57bb60-ad21-4d87-9b71-e95531464b87",
   "metadata": {},
   "source": [
    "# Dijkstra Algorithm"
   ]
  },
  {
   "cell_type": "code",
   "execution_count": 1,
   "id": "b2223ca2-575e-4576-9515-8a8e4d1b4666",
   "metadata": {},
   "outputs": [],
   "source": [
    "from heapdict import heapdict"
   ]
  },
  {
   "cell_type": "code",
   "execution_count": 2,
   "id": "d75d793f-9391-421c-97c3-3e7ccc59bca3",
   "metadata": {},
   "outputs": [],
   "source": [
    "def dijkstra(G):\n",
    "    INF = 9999\n",
    "    N   = len(G)\n",
    "    r   = 0\n",
    "\n",
    "    Q = heapdict()\n",
    "    for i in range(N):\n",
    "        Q[i] = INF\n",
    "    Q[r] = 0\n",
    "    print(\"Q: \", list(Q))\n",
    "    \n",
    "    dist = [INF] * N\n",
    "    dist[r] = 0\n",
    "    print(f\"Dist: {dist}\");\n",
    "\n",
    "    pi = [None] * N\n",
    "    pi[r] = -1\n",
    "    print(f\"PI: {pi}\"); \n",
    "\n",
    "    def adj(G, u):\n",
    "        neighbors = []\n",
    "        for v in range(N):\n",
    "            if G[u][v]:\n",
    "                neighbors.append(v)\n",
    "        return neighbors\n",
    "\n",
    "    def v_in_Q(Q, v):\n",
    "        keys = list(Q.keys())\n",
    "        return v in keys\n",
    "\n",
    "    while Q:\n",
    "        u = Q.popitem()[0]\n",
    "        for v in adj(G, u):\n",
    "            distTravelled = dist[u] + G[u][v]\n",
    "            if v_in_Q(Q, v) and Q[v] > distTravelled:\n",
    "                pi[v] = u\n",
    "                Q[v] = distTravelled\n",
    "                dist[v] = distTravelled\n",
    "    \n",
    "    print(\"\")\n",
    "    print(\"Final States:\")\n",
    "    print(f\"Dist: {dist}\");\n",
    "    print(f\"PI: {pi}\");"
   ]
  },
  {
   "cell_type": "markdown",
   "id": "bbb8dadd-50cb-4a68-acc6-4aad0b23a490",
   "metadata": {},
   "source": [
    "### Example 1:"
   ]
  },
  {
   "cell_type": "code",
   "execution_count": 3,
   "id": "31bbdfc8-300c-4753-bf69-98d9ac7d0a06",
   "metadata": {},
   "outputs": [
    {
     "data": {
      "image/png": "[encoded data removed]",
      "text/plain": [
       "<IPython.core.display.Image object>"
      ]
     },
     "execution_count": 3,
     "metadata": {},
     "output_type": "execute_result"
    }
   ],
   "source": [
    "from IPython.display import Image\n",
    "Image(filename='./Example_1.png') "
   ]
  },
  {
   "cell_type": "code",
   "execution_count": 4,
   "id": "7b3d60e7-4266-4f85-ab2e-e5f3f4ee4fa2",
   "metadata": {},
   "outputs": [],
   "source": [
    "G = [[0, 10, 3, 0, 0],  \n",
    "     [0, 0, 1, 2, 0],\n",
    "     [0, 4, 0, 8, 2],\n",
    "     [0, 0, 0, 0, 7],\n",
    "     [0, 0, 0, 9, 0]]"
   ]
  },
  {
   "cell_type": "code",
   "execution_count": 5,
   "id": "c6f180af-6f0c-4774-8252-a20c2ca219c2",
   "metadata": {},
   "outputs": [
    {
     "name": "stdout",
     "output_type": "stream",
     "text": [
      "Q:  [1, 2, 3, 4, 0]\n",
      "Dist: [0, 9999, 9999, 9999, 9999]\n",
      "PI: [-1, None, None, None, None]\n",
      "\n",
      "Final States:\n",
      "Dist: [0, 7, 3, 9, 5]\n",
      "PI: [-1, 2, 0, 1, 2]\n"
     ]
    }
   ],
   "source": [
    "dijkstra(G)"
   ]
  },
  {
   "cell_type": "markdown",
   "id": "5df8267e-0040-4aea-bf79-7e6076a7531e",
   "metadata": {},
   "source": [
    "### Example 2:"
   ]
  },
  {
   "cell_type": "code",
   "execution_count": 6,
   "id": "41490179-b8a9-4cc8-ab65-400e16c23d62",
   "metadata": {},
   "outputs": [
    {
     "data": {
      "image/png": "[encoded data removed]",
      "text/plain": [
       "<IPython.core.display.Image object>"
      ]
     },
     "execution_count": 6,
     "metadata": {},
     "output_type": "execute_result"
    }
   ],
   "source": [
    "Image(filename='./Example_2.png') "
   ]
  },
  {
   "cell_type": "code",
   "execution_count": 7,
   "id": "6341f541-0459-4aa5-b52e-fc12339c059d",
   "metadata": {},
   "outputs": [],
   "source": [
    "G = [[0, 1, 0, 6, 0, 3], #A\n",
    "     [1, 0, 2, 2, 8, 0], #B\n",
    "     [0, 2, 0, 9, 4, 3], #C\n",
    "     [6, 2, 9, 0, 5, 0], #D\n",
    "     [0, 8, 4, 5, 0, 4], #E\n",
    "     [3, 0, 3, 0, 4, 0]] #F"
   ]
  },
  {
   "cell_type": "code",
   "execution_count": 8,
   "id": "a152507d-3d68-4147-a813-508e22c10a86",
   "metadata": {},
   "outputs": [
    {
     "name": "stdout",
     "output_type": "stream",
     "text": [
      "Q:  [1, 2, 3, 4, 5, 0]\n",
      "Dist: [0, 9999, 9999, 9999, 9999, 9999]\n",
      "PI: [-1, None, None, None, None, None]\n",
      "\n",
      "Final States:\n",
      "Dist: [0, 1, 3, 3, 7, 3]\n",
      "PI: [-1, 0, 1, 1, 2, 0]\n"
     ]
    }
   ],
   "source": [
    "dijkstra(G)"
   ]
  },
  {
   "cell_type": "code",
   "execution_count": null,
   "id": "704b8945-84c5-4551-8270-1d00d05dae8b",
   "metadata": {},
   "outputs": [],
   "source": []
  }
 ],
 "metadata": {
  "kernelspec": {
   "display_name": "Python 3 (ipykernel)",
   "language": "python",
   "name": "python3"
  },
  "language_info": {
   "codemirror_mode": {
    "name": "ipython",
    "version": 3
   },
   "file_extension": ".py",
   "mimetype": "text/x-python",
   "name": "python",
   "nbconvert_exporter": "python",
   "pygments_lexer": "ipython3",
   "version": "3.9.12"
  }
 },
 "nbformat": 4,
 "nbformat_minor": 5
}
