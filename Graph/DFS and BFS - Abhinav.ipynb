{
 "cells": [
  {
   "cell_type": "markdown",
   "id": "65f414a2-df66-4141-8fc3-b9fa7427e523",
   "metadata": {},
   "source": [
    "# Task 1: Changing from adjacency list to adjacency matrix"
   ]
  },
  {
   "cell_type": "code",
   "execution_count": 1,
   "id": "851f5588-b4f8-4bb4-8a89-4bc716973c1f",
   "metadata": {},
   "outputs": [],
   "source": [
    "graph = [\n",
    "    [False, True, False, False, False, False, False],\n",
    "    [False, False, False, True, False, False, True],\n",
    "    [False, False, False, True, False, False, False],\n",
    "    [False, False, False, False, False, True, False],\n",
    "    [False, False, True, True, False, False, False],\n",
    "    [False, False, False, False, False, False, False],\n",
    "    [False, False, False, False, True, False, False]\n",
    "]\n",
    "\n",
    "stringToIndex = {\n",
    "    '1' : 0,\n",
    "    '2' : 1,\n",
    "    '3' : 2,\n",
    "    '4' : 3,\n",
    "    '5' : 4,\n",
    "    '6' : 5,\n",
    "    '7' : 6\n",
    "}\n",
    "\n",
    "indexToString = {\n",
    "    0 : '1',\n",
    "    1: '2',\n",
    "    2: '3',\n",
    "    3: '4',\n",
    "    4: '5',\n",
    "    5: '6',\n",
    "    6: '7'\n",
    "}"
   ]
  },
  {
   "cell_type": "code",
   "execution_count": 2,
   "id": "b807c0dd-f233-4231-9255-195c07dbef41",
   "metadata": {},
   "outputs": [
    {
     "data": {
      "image/png": "[encoded data removed]",
      "text/plain": [
       "<IPython.core.display.Image object>"
      ]
     },
     "execution_count": 2,
     "metadata": {},
     "output_type": "execute_result"
    }
   ],
   "source": [
    "from IPython.display import Image\n",
    "Image(filename='graph.png') "
   ]
  },
  {
   "cell_type": "markdown",
   "id": "88d61edf-e1b7-44d4-bc37-e69338b5fb9e",
   "metadata": {},
   "source": [
    "### Breadth-first traversal"
   ]
  },
  {
   "cell_type": "code",
   "execution_count": 3,
   "id": "8227df88-680b-47a7-9cc4-f37f69b589a5",
   "metadata": {},
   "outputs": [
    {
     "name": "stdout",
     "output_type": "stream",
     "text": [
      "1 -->2 -->7 -->5 -->3 -->4 -->6 -->"
     ]
    }
   ],
   "source": [
    "def BFS(graph, stringToIndex, indexToString, s):\n",
    "    visited = set()\n",
    "    queue   = set() \n",
    "    visited.add(s) \n",
    "    queue.add(s)\n",
    "    \n",
    "    while queue:\n",
    "        u = queue.pop()\n",
    "        \n",
    "        print(u, \"-->\", end=\"\")\n",
    "        \n",
    "        nodePosition = stringToIndex[u]\n",
    "        for index, item in enumerate(graph[nodePosition]):\n",
    "            neighbor = indexToString[index]\n",
    "            if neighbor not in visited and item:\n",
    "                visited.add(neighbor)\n",
    "                queue.add(neighbor)\n",
    "\n",
    "BFS(graph, stringToIndex, indexToString, '1')            "
   ]
  },
  {
   "cell_type": "markdown",
   "id": "aaad1c43-3b85-46fc-9beb-f3e7370e3527",
   "metadata": {},
   "source": [
    "### Depth-first traversal"
   ]
  },
  {
   "cell_type": "code",
   "execution_count": 4,
   "id": "1f7cb491-6798-4f04-9126-44f93bd7e6ea",
   "metadata": {},
   "outputs": [],
   "source": [
    "visited = set()\n",
    "\n",
    "def DFS(graph, stringToIndex, indexToString, s):\n",
    "    if s not in visited:\n",
    "        print(s, \"--->\", end=\"\")\n",
    "        visited.add(s)\n",
    "        nodePosition = stringToIndex[s]\n",
    "        # print(nodePosition)\n",
    "        for index, value in enumerate(graph[nodePosition]):\n",
    "            neighbor = indexToString[index]\n",
    "            if value:\n",
    "                DFS(graph, stringToIndex, indexToString, neighbor)"
   ]
  },
  {
   "cell_type": "code",
   "execution_count": 5,
   "id": "6e0b57f6-5a24-4b81-8c70-e61e4d9c44a5",
   "metadata": {},
   "outputs": [
    {
     "name": "stdout",
     "output_type": "stream",
     "text": [
      "1 --->2 --->4 --->6 --->7 --->5 --->3 --->"
     ]
    }
   ],
   "source": [
    "DFS(graph, stringToIndex, indexToString, '1')   "
   ]
  },
  {
   "cell_type": "code",
   "execution_count": 6,
   "id": "db9b1fd4-9c4d-4aae-8713-e85a82907357",
   "metadata": {},
   "outputs": [
    {
     "name": "stdout",
     "output_type": "stream",
     "text": [
      "1 --->2 --->4 --->6 --->7 --->5 --->3 --->"
     ]
    }
   ],
   "source": [
    "#adjacency list\n",
    "\n",
    "graph = {\n",
    "    '1' : ['2'],\n",
    "    '2' : ['4', '7'],\n",
    "    '3' : ['4'],\n",
    "    '4' : ['6'],\n",
    "    '5' : ['3', '4'],\n",
    "    '6' : [],\n",
    "    '7' : ['5']\n",
    "}\n",
    "\n",
    "visited = set()\n",
    "\n",
    "def DFS(graph, s):\n",
    "    if s not in visited:\n",
    "        print(s, \"--->\", end=\"\")  #our answer\n",
    "        visited.add(s)\n",
    "        for neighbor in graph[s]:\n",
    "            DFS(graph, neighbor)\n",
    "              \n",
    "DFS(graph, '1')                "
   ]
  },
  {
   "cell_type": "code",
   "execution_count": null,
   "id": "d0a2c435-3e29-4514-b992-c69e6d2f58b1",
   "metadata": {},
   "outputs": [],
   "source": []
  },
  {
   "cell_type": "markdown",
   "id": "bf1ff32e-5633-4bcd-8871-cf5451aa0d0c",
   "metadata": {},
   "source": [
    "# Task 2: Case Study"
   ]
  },
  {
   "cell_type": "markdown",
   "id": "cdff30df-0f2c-4add-8e81-b7fc0c71c790",
   "metadata": {},
   "source": [
    "### Case Study: Social Network"
   ]
  },
  {
   "cell_type": "markdown",
   "id": "786956da-4566-4f09-8248-19da1b235473",
   "metadata": {},
   "source": [
    "Since graphs are generally used in social network platforms to keep a record of user friends, it was used as a case study for task 2. For this case study, two different scenarios were considered. The first scenario is checking a friendship path between two users and the second is listing mutual friends. Since the social network graph is expected to be sparse (since every user knows only a fraction of all users registered), an adjacency list is used."
   ]
  },
  {
   "cell_type": "code",
   "execution_count": 7,
   "id": "9fa6420a-f070-4c10-8e8e-9ccbcd67cd89",
   "metadata": {},
   "outputs": [
    {
     "data": {
      "image/png": "[encoded data removed]",
      "text/plain": [
       "<IPython.core.display.Image object>"
      ]
     },
     "execution_count": 7,
     "metadata": {},
     "output_type": "execute_result"
    }
   ],
   "source": [
    "Image(filename='social network graph.png') "
   ]
  },
  {
   "cell_type": "markdown",
   "id": "7ef9b99a-a91e-448d-8979-8746a8885f58",
   "metadata": {},
   "source": [
    "#### Use Scenario 1: Checking if a friendship path exists between two users"
   ]
  },
  {
   "cell_type": "markdown",
   "id": "fbb749a5-aa3c-467a-86b5-d32c52b3f024",
   "metadata": {},
   "source": [
    "This scenario was inspired by the book 'Cracking the Coding Interview' by Gayle McDowell, where it was listed as an application of pathfinder under BFS (bread-first search), after finding it to be a good application demonstration for BFS. In this, it is checked if a path between two users exists. In this case, BFS is preferred over DFS (depth-first search). The main reason is due to the expectation of the social network graph to be very large. For example, we wish to determine if there is a path between Joan Matthews and Chance Chariton. Using DFS, we can have one potential route, Joan Matthews --> Bob Carr --> ... . But, from the social network graph, it can be seen that Joan Matthews has a direct path with Chance Chariton as they are friends. From this, it is can be seen that a path eventually is found by DFS but it would take much longer than BFS. Hence, we would like to search as close to the given user."
   ]
  },
  {
   "cell_type": "code",
   "execution_count": 8,
   "id": "414e4ac6-77f6-4b35-8da8-e371164ab7aa",
   "metadata": {},
   "outputs": [],
   "source": [
    "graph = {\n",
    "    'Elaine Bruce' : ['Keir Hahn', 'Wilbur Conroy', 'Bob Carr'],\n",
    "    'Keir Hahn' : ['Elaine Bruce', 'Henley Phan', 'Wilbur Conroy'],\n",
    "    'Wilbur Conroy' : ['Elaine Bruce', 'Henley Phan', 'Keir Hahn', 'Bob Carr'],\n",
    "    'Henley Phan' : ['Keir Hahn', 'Bob Carr', 'Wilbur Conroy'],\n",
    "    'Bob Carr' : ['Beatrix Mchenna', 'Elaine Bruce', 'Henley Phan', 'Joan Matthews', 'Wilbur Conroy'],\n",
    "    'Beatrix Mchenna' : ['Bob Carr'],\n",
    "    'Joan Matthews' : ['Della Traynor', 'Chance Carlton', 'Earl Trujillo'],\n",
    "    'Della Traynor' : ['Joan Matthews'],\n",
    "    'Chance Carlton' : ['Joan Matthews'],\n",
    "    'Earl Trujillo' : ['Joan Matthews'],\n",
    "    'Nikolas Mcgregor' : ['Jordan Sweet'],\n",
    "    'Jordan Sweet' : ['Nikolas Mcgregor', 'Hermione Dunn'],\n",
    "    'Hermione Dunn' : ['Jordan Sweet']\n",
    "}\n"
   ]
  },
  {
   "cell_type": "code",
   "execution_count": 9,
   "id": "25e0423f-8a94-4121-a20a-7b2e7c2c39d8",
   "metadata": {},
   "outputs": [],
   "source": [
    "def friendShipPathBFS(graph, s, target):\n",
    "    # checking if user exits in social network graph\n",
    "    if s not in graph or target not in graph:\n",
    "        print(\"One or both users do not exist in social network graph\")\n",
    "        return\n",
    "    visited = set()\n",
    "    queue   = set()      \n",
    "    visited.add(s)\n",
    "    queue.add(s)\n",
    "    \n",
    "    while queue: # continue as long as queue is not empty\n",
    "        u = queue.pop()\n",
    "        if u == target:\n",
    "            return True\n",
    "        \n",
    "        # visit all neighboring nodes\n",
    "        for neighbor in graph[u]:\n",
    "            if neighbor not in visited:\n",
    "                visited.add(neighbor)\n",
    "                queue.add(neighbor)  \n",
    "    return False"
   ]
  },
  {
   "cell_type": "markdown",
   "id": "5e83b290-514a-4bff-a248-61badaf132f7",
   "metadata": {},
   "source": [
    "##### Check if a path of friendship exists between Henley Phan and Elaine Bruce"
   ]
  },
  {
   "cell_type": "code",
   "execution_count": 10,
   "id": "8d2f1d1f-ac4d-46fe-8034-128ac084f44c",
   "metadata": {},
   "outputs": [
    {
     "data": {
      "text/plain": [
       "True"
      ]
     },
     "execution_count": 10,
     "metadata": {},
     "output_type": "execute_result"
    }
   ],
   "source": [
    "friendShipPathBFS(graph, 'Elaine Bruce', 'Henley Phan')"
   ]
  },
  {
   "cell_type": "markdown",
   "id": "8e1462b3-b116-4bb6-945a-89a093445e47",
   "metadata": {},
   "source": [
    "##### Check if a path of friendship exists between Elaine Bruce and Hermione Dunn"
   ]
  },
  {
   "cell_type": "code",
   "execution_count": 11,
   "id": "577bdfab-a31f-4378-9c79-cfe737c81ae6",
   "metadata": {},
   "outputs": [
    {
     "data": {
      "text/plain": [
       "False"
      ]
     },
     "execution_count": 11,
     "metadata": {},
     "output_type": "execute_result"
    }
   ],
   "source": [
    "friendShipPathBFS(graph, 'Elaine Bruce', 'Hermione Dunn')"
   ]
  },
  {
   "cell_type": "markdown",
   "id": "48310d22-e499-49cf-ad7e-3a991c72354d",
   "metadata": {},
   "source": [
    "#### Use Scenario 2: Checking for mutual friends"
   ]
  },
  {
   "cell_type": "markdown",
   "id": "312bc4df-1a7c-4704-bf7c-c5d440e0c7a7",
   "metadata": {},
   "source": [
    "In this scenario, a list of friends is determined which is common to two users who are friends themselves. Since neighboring nodes will be checked, BFS is suitable for this scenario (only up to the first neighbor traversal)."
   ]
  },
  {
   "cell_type": "code",
   "execution_count": 12,
   "id": "39fcf3a3-82cc-40bf-b00f-2fc966ec1cc8",
   "metadata": {},
   "outputs": [],
   "source": [
    "def mutualFriendsBFS(graph, s, t):\n",
    "    # checking if user exits in social network graph\n",
    "    if s not in graph or t not in graph:\n",
    "        print(\"One or both users do not exist in social network graph\")\n",
    "        return\n",
    "    \n",
    "    neighboringNodes = set()\n",
    "    mutualFriends = []\n",
    "    for neighbor in graph[s]: # visit all neigbhoring nodes\n",
    "        neighboringNodes.add(neighbor)\n",
    "    print(neighboringNodes)\n",
    "    \n",
    "    if t not in neighboringNodes: # checking if two given users are friends\n",
    "        print(\"Two given users are not friends\")\n",
    "    else:\n",
    "        for neighbor in graph[t]: # checking if user exits in social network graph\n",
    "            if neighbor in neighboringNodes: # checking if two users have common friends\n",
    "                mutualFriends.append(neighbor)\n",
    "    \n",
    "    return mutualFriends "
   ]
  },
  {
   "cell_type": "code",
   "execution_count": 13,
   "id": "e0e362fd-2d5e-4278-b502-ae2599a49a51",
   "metadata": {},
   "outputs": [
    {
     "name": "stdout",
     "output_type": "stream",
     "text": [
      "{'Wilbur Conroy', 'Bob Carr', 'Keir Hahn'}\n"
     ]
    },
    {
     "data": {
      "text/plain": [
       "['Keir Hahn', 'Bob Carr']"
      ]
     },
     "execution_count": 13,
     "metadata": {},
     "output_type": "execute_result"
    }
   ],
   "source": [
    "mutualFriends = mutualFriendsBFS(graph, 'Elaine Bruce', 'Wilbur Conroy')\n",
    "mutualFriends"
   ]
  },
  {
   "cell_type": "code",
   "execution_count": null,
   "id": "8f8a74f5-6afc-46bd-92ab-48397788a68d",
   "metadata": {},
   "outputs": [],
   "source": []
  }
 ],
 "metadata": {
  "kernelspec": {
   "display_name": "Python 3 (ipykernel)",
   "language": "python",
   "name": "python3"
  },
  "language_info": {
   "codemirror_mode": {
    "name": "ipython",
    "version": 3
   },
   "file_extension": ".py",
   "mimetype": "text/x-python",
   "name": "python",
   "nbconvert_exporter": "python",
   "pygments_lexer": "ipython3",
   "version": "3.9.12"
  }
 },
 "nbformat": 4,
 "nbformat_minor": 5
}
