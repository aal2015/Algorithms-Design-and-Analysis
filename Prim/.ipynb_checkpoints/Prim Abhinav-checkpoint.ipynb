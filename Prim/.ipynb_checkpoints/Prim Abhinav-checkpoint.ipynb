{
 "cells": [
  {
   "cell_type": "markdown",
   "id": "d34b01df-e8df-4600-81ca-0b56d65ae02c",
   "metadata": {},
   "source": [
    "# Prim's Algorithm with Adjacency List"
   ]
  },
  {
   "cell_type": "code",
   "execution_count": 29,
   "id": "2ddcd3f9-08ce-4093-96bd-fba850014ea7",
   "metadata": {},
   "outputs": [
    {
     "data": {
      "image/png": "[encoded data removed]",
      "text/plain": [
       "<IPython.core.display.Image object>"
      ]
     },
     "execution_count": 29,
     "metadata": {},
     "output_type": "execute_result"
    }
   ],
   "source": [
    "from IPython.display import Image\n",
    "Image(filename='Diagram.png') "
   ]
  },
  {
   "cell_type": "code",
   "execution_count": 27,
   "id": "dc24785a-c0e0-4f49-a5a1-ea4719d98e9a",
   "metadata": {},
   "outputs": [
    {
     "name": "stdout",
     "output_type": "stream",
     "text": [
      "Q:  [1, 2, 3, 4, 0]\n",
      "PI: [-1, None, None, None, None]\n",
      "Final PI: [-1, 2, 0, 2, 0]\n"
     ]
    }
   ],
   "source": [
    "G = {\n",
    "    0: [[1, 2], [2, 2], [3, 5], [4, 3]],\n",
    "    1: [[0, 2], [2, 1], [3, 4], [4, 4]],\n",
    "    2: [[0, 2], [1, 1], [3, 3], [4, 5]],\n",
    "    3: [[0, 5], [1, 4], [2, 3], [4, 9]],\n",
    "    4: [[0, 3], [1, 4], [2, 5], [3, 9]]\n",
    "}\n",
    "\n",
    "INF = 9999\n",
    "N   = 5\n",
    "r   = 0\n",
    "\n",
    "from heapdict import heapdict\n",
    "\n",
    "Q = heapdict()\n",
    "for i in range(N):\n",
    "    Q[i] = INF\n",
    "Q[r] = 0\n",
    "\n",
    "print(f\"Q:  {list(Q)}\")\n",
    "\n",
    "pi = [None] * 5\n",
    "pi[r] = -1\n",
    "print(f\"PI: {pi}\")\n",
    "\n",
    "def v_in_Q(Q, v):\n",
    "    #get the keys in Q\n",
    "    keys = list(Q.keys()) #you can actually do if v in Q:\n",
    "    #check if v in keys\n",
    "    return v in keys\n",
    "\n",
    "while Q:\n",
    "    #u = extract_min\n",
    "    u = Q.popitem()[0]\n",
    "    for v, weight in G[u]:\n",
    "        if v_in_Q(Q, v) and weight < Q[v]:\n",
    "            #v.pi = u\n",
    "            pi[v] = u\n",
    "            #v.key = w(u, v)\n",
    "            Q[v] = weight\n",
    "print(\"Final PI:\", pi)"
   ]
  },
  {
   "cell_type": "markdown",
   "id": "1cbf5da6-3bd9-4767-a248-2a4aaf601fc2",
   "metadata": {},
   "source": [
    "### Confirming solution with last class's code"
   ]
  },
  {
   "cell_type": "code",
   "execution_count": 28,
   "id": "87f5029a-4b07-47f2-9d3c-2753ac3ba171",
   "metadata": {},
   "outputs": [
    {
     "name": "stdout",
     "output_type": "stream",
     "text": [
      "[-1, 2, 0, 2, 0]\n"
     ]
    }
   ],
   "source": [
    "G = [[0, 2, 2, 5, 3],  \n",
    "     [2, 0, 1, 4, 4],\n",
    "     [2, 1, 0, 3, 5],\n",
    "     [5, 4, 3, 0, 9],\n",
    "     [3, 4, 5, 9, 0]]\n",
    "\n",
    "INF = 9999\n",
    "N   = 5\n",
    "r   = 0\n",
    "\n",
    "# for each vertex\n",
    "# set key = infinity\n",
    "from heapdict import heapdict\n",
    "\n",
    "Q = heapdict()\n",
    "for i in range(N):\n",
    "    Q[i] = INF\n",
    "Q[r] = 0\n",
    "\n",
    "# print(list(Q))\n",
    "\n",
    "# set pi = NIL\n",
    "# pi = [None, None, None, None, None]\n",
    "pi = [None] * 5\n",
    "# set the pi of r = -1 or anything you like\n",
    "pi[r] = -1\n",
    "# print(f\"PI: {pi}\");\n",
    "\n",
    "#r.key = 0\n",
    "#put all vertex into the queue\n",
    "\n",
    "def adj(G, u):\n",
    "    neighbors = []\n",
    "    \n",
    "    # for each vertex\n",
    "    for v in range(N):\n",
    "        # if G[u, v]\n",
    "        if G[u][v]:\n",
    "            #append to the neighbors\n",
    "            neighbors.append(v)\n",
    "    return neighbors\n",
    "\n",
    "def v_in_Q(Q, v):\n",
    "    #get the keys in Q\n",
    "    keys = list(Q.keys()) #you can actually do if v in Q:\n",
    "    #check if v in keys\n",
    "    return v in keys\n",
    "\n",
    "#while Q is not empty\n",
    "while Q:\n",
    "    \n",
    "    #u = extract_min\n",
    "    u = Q.popitem()[0]\n",
    "    # for v in adj[u]\n",
    "    for v in adj(G, u):\n",
    "        # if v_in_Q(Q, v), and w(u, v) < v.key\n",
    "        if v_in_Q(Q, v) and G[u][v] < Q[v]:\n",
    "            #v.pi = u\n",
    "            pi[v] = u\n",
    "            #v.key = w(u, v)\n",
    "            Q[v] = G[u][v]\n",
    "    \n",
    "print(pi)"
   ]
  },
  {
   "cell_type": "code",
   "execution_count": null,
   "id": "37334173-f99b-4765-bdf5-cef45484b6ba",
   "metadata": {},
   "outputs": [],
   "source": []
  }
 ],
 "metadata": {
  "kernelspec": {
   "display_name": "Python 3 (ipykernel)",
   "language": "python",
   "name": "python3"
  },
  "language_info": {
   "codemirror_mode": {
    "name": "ipython",
    "version": 3
   },
   "file_extension": ".py",
   "mimetype": "text/x-python",
   "name": "python",
   "nbconvert_exporter": "python",
   "pygments_lexer": "ipython3",
   "version": "3.9.12"
  }
 },
 "nbformat": 4,
 "nbformat_minor": 5
}
