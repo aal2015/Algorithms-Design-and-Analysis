{
 "cells": [
  {
   "cell_type": "markdown",
   "id": "8a197388-e5ce-4d9c-99c3-aeae0186aaa8",
   "metadata": {},
   "source": [
    "# Approach to delete function implementation of BST"
   ]
  },
  {
   "cell_type": "markdown",
   "id": "320cb3f8-4c65-4419-8732-e43bc0fe5593",
   "metadata": {},
   "source": [
    "Recursion was used to implement the delete function of BST. It works in the following three cases:"
   ]
  },
  {
   "cell_type": "markdown",
   "id": "13fcc80d-de9e-4abd-94f6-33274c92a9b9",
   "metadata": {},
   "source": [
    "#### Case 1: No child"
   ]
  },
  {
   "cell_type": "markdown",
   "id": "4667d74f-83c9-4136-adaf-8a0b27549dfa",
   "metadata": {},
   "source": [
    "The node's link with its parent node is severed and afterward, the node is deleted to free memory."
   ]
  },
  {
   "cell_type": "markdown",
   "id": "f611660f-86d3-45e4-bf1b-4cb9b6a45dc8",
   "metadata": {},
   "source": [
    "#### Case 2: Single child"
   ]
  },
  {
   "cell_type": "markdown",
   "id": "f9fb13f5-91a3-4a4d-bec8-6ba90d9af2ae",
   "metadata": {},
   "source": [
    "The node's link with its parent node is removed but a link with the child' child node (grandson) is established. Then, the node is deleted."
   ]
  },
  {
   "cell_type": "markdown",
   "id": "f142507c-f5f1-4bbd-90f6-fec508d7d3bb",
   "metadata": {},
   "source": [
    "#### Case 3: Two Children"
   ]
  },
  {
   "cell_type": "markdown",
   "id": "c7007143-da97-40a7-86b4-a4b2dd582b12",
   "metadata": {},
   "source": [
    "The successor of the node is determined. Then, the key value of the successor node is copied into the node's key. Afterward, the successor node's link is removed from its parent. If the successor node has a child node, the child node is connected with its former parent node. Finally, the successor node is deleted."
   ]
  },
  {
   "cell_type": "code",
   "execution_count": null,
   "id": "7a9bf205-2cc2-46c7-978f-25d8236b80aa",
   "metadata": {},
   "outputs": [],
   "source": []
  },
  {
   "cell_type": "code",
   "execution_count": 1,
   "id": "78a1f383-b73c-4d64-a719-22ce1942371d",
   "metadata": {},
   "outputs": [],
   "source": [
    "#how do we start here\n",
    "#create a class called Node\n",
    "class Node(object):  #object is the primitive class, so I inherit\n",
    "    #when you first create the Node, this guy is the root node\n",
    "    def __init__(self, key):\n",
    "        self.left  = None\n",
    "        self.right = None\n",
    "        self.key = key  #this is actually the root node\n",
    "        #why you don't write like this\n",
    "        #self.root = key\n",
    "        \n",
    "    #def insert\n",
    "    def insert(self, key):\n",
    "        #if we already have a root node,\n",
    "        if(self.key):\n",
    "            #then check left and right\n",
    "            #cond1:  if less than: go left\n",
    "            if(key < self.key):\n",
    "                #cond1.1  if the left is NIL, yay! fill it!\n",
    "                if(self.left == None):\n",
    "                    self.left = Node(key)\n",
    "                #cond1.2  if the left is NOT NIL...oh no...\n",
    "                else:\n",
    "                    self.left.insert(key)\n",
    "            \n",
    "            #cond2:  if greater than: go right\n",
    "            elif(key >= self.key):\n",
    "                #cond1.2  if the right is NIL, yay! fill it!\n",
    "                if(self.right == None):\n",
    "                    self.right = Node(key)\n",
    "                #cond1.2  if the right is NOT NIL...consider right as the parent...\n",
    "                else:\n",
    "                    self.right.insert(key)\n",
    "            \n",
    "            \n",
    "        #if we don't have the root node\n",
    "        else:\n",
    "            #this key is the root node\n",
    "            self.key = key\n",
    "    \n",
    "    def printT(self):        \n",
    "        #if left is still available print left\n",
    "        if (self.left):\n",
    "            self.left.printT()\n",
    "        print(self.key)\n",
    "        if (self.right):\n",
    "            self.right.printT()\n",
    "    \n",
    "    def search(self, key):\n",
    "        if key == self.key or self is None:\n",
    "            return self\n",
    "        \n",
    "        if key < self.key and self.left is not None:\n",
    "            return self.left.search(key)\n",
    "        elif self.right is not None:\n",
    "            return self.right.search(key)\n",
    "        return None\n",
    "    \n",
    "    def delete(self, key):\n",
    "        if self is None: # Node with the key value doesn't exist\n",
    "            return None \n",
    "        elif key < self.key:\n",
    "            self.left = self.left.delete(key)\n",
    "            return self\n",
    "        elif key > self.key:\n",
    "            self.right = self.right.delete(key)\n",
    "            return self\n",
    "        else:\n",
    "            ## Node with key value found ##\n",
    "            # Case 1: no child --> leaf node\n",
    "            if self.left is None and self.right is None:\n",
    "                del self\n",
    "                return None\n",
    "            # Case 2: single child\n",
    "            elif self.left is None:\n",
    "                right = self.right\n",
    "                del self\n",
    "                return right\n",
    "            elif self.right is None:\n",
    "                left = self.left#\n",
    "                del self\n",
    "                return left\n",
    "            # Case 3: 2 children\n",
    "            else:\n",
    "                successorNode, successorNodeParent = self.minimum(self.right, self)\n",
    "                self.key = successorNode.key # copy key value of successor node\n",
    "                if successorNodeParent == self: # node is directly connected with successor node\n",
    "                    self.right = successorNode.delete(successorNode.key)\n",
    "                else:\n",
    "                    successorNodeParent.left = successorNode.delete(successorNode.key)\n",
    "                return self\n",
    "        \n",
    "    def minimum(self, node, parent):\n",
    "        while node.left is not None:\n",
    "            parent = node\n",
    "            node = node.left\n",
    "        return node, parent"
   ]
  },
  {
   "cell_type": "markdown",
   "id": "283ad42b-a689-4b7f-9db4-d53a87219402",
   "metadata": {},
   "source": [
    "## Example 1"
   ]
  },
  {
   "cell_type": "code",
   "execution_count": 2,
   "id": "3d4cea58-e4e8-47e9-b12e-d528b1a5230b",
   "metadata": {},
   "outputs": [
    {
     "name": "stdout",
     "output_type": "stream",
     "text": [
      "3\n",
      "5\n",
      "10\n",
      "11\n",
      "12\n",
      "13\n",
      "15\n"
     ]
    }
   ],
   "source": [
    "root = Node(10)\n",
    "root.insert(13)\n",
    "root.insert(11)\n",
    "root.insert(12)\n",
    "root.insert(5)\n",
    "root.insert(3)\n",
    "root.insert(15)\n",
    "root.printT()"
   ]
  },
  {
   "cell_type": "code",
   "execution_count": 3,
   "id": "c9e7a2b4-303a-48f4-87a9-25a611110d11",
   "metadata": {},
   "outputs": [
    {
     "data": {
      "text/plain": [
       "<__main__.Node at 0x20d204ca910>"
      ]
     },
     "execution_count": 3,
     "metadata": {},
     "output_type": "execute_result"
    }
   ],
   "source": [
    "root.delete(10)"
   ]
  },
  {
   "cell_type": "code",
   "execution_count": 4,
   "id": "e0ef8ae8-fe6c-4594-82c7-3278122dc576",
   "metadata": {},
   "outputs": [
    {
     "name": "stdout",
     "output_type": "stream",
     "text": [
      "3\n",
      "5\n",
      "11\n",
      "12\n",
      "13\n",
      "15\n"
     ]
    }
   ],
   "source": [
    "root.printT()"
   ]
  },
  {
   "cell_type": "code",
   "execution_count": 5,
   "id": "db0a9496-127a-4030-a774-d72ec2e52f9c",
   "metadata": {},
   "outputs": [
    {
     "data": {
      "text/plain": [
       "<__main__.Node at 0x20d204ca910>"
      ]
     },
     "execution_count": 5,
     "metadata": {},
     "output_type": "execute_result"
    }
   ],
   "source": [
    "root.delete(5)"
   ]
  },
  {
   "cell_type": "code",
   "execution_count": 6,
   "id": "e1b8bea6-c576-4e4e-864c-be6c83a2218c",
   "metadata": {},
   "outputs": [
    {
     "name": "stdout",
     "output_type": "stream",
     "text": [
      "3\n",
      "11\n",
      "12\n",
      "13\n",
      "15\n"
     ]
    }
   ],
   "source": [
    "root.printT()"
   ]
  },
  {
   "cell_type": "code",
   "execution_count": 7,
   "id": "31a94cc8-030e-4dc3-9ba3-c153756b58ee",
   "metadata": {},
   "outputs": [
    {
     "data": {
      "text/plain": [
       "<__main__.Node at 0x20d204ca910>"
      ]
     },
     "execution_count": 7,
     "metadata": {},
     "output_type": "execute_result"
    }
   ],
   "source": [
    "root.delete(15)"
   ]
  },
  {
   "cell_type": "code",
   "execution_count": 8,
   "id": "c5ce1a0c-01a9-45a4-951e-afb74c7d71e1",
   "metadata": {},
   "outputs": [
    {
     "name": "stdout",
     "output_type": "stream",
     "text": [
      "3\n",
      "11\n",
      "12\n",
      "13\n"
     ]
    }
   ],
   "source": [
    "root.printT()"
   ]
  },
  {
   "cell_type": "markdown",
   "id": "b2d85aff-84a1-4159-be5c-7f68453c0398",
   "metadata": {},
   "source": [
    "## Example 2"
   ]
  },
  {
   "cell_type": "code",
   "execution_count": 9,
   "id": "27eb6705-a961-4827-a9a9-42d01b7d048c",
   "metadata": {},
   "outputs": [
    {
     "name": "stdout",
     "output_type": "stream",
     "text": [
      "1\n",
      "2\n",
      "3\n",
      "4\n",
      "5\n",
      "6\n",
      "7\n",
      "8\n",
      "9\n",
      "10\n",
      "11\n",
      "12\n",
      "13\n"
     ]
    }
   ],
   "source": [
    "root = Node(6)\n",
    "root.insert(4)\n",
    "root.insert(10)\n",
    "root.insert(2)\n",
    "root.insert(5)\n",
    "root.insert(8)\n",
    "root.insert(12)\n",
    "root.insert(1)\n",
    "root.insert(3)\n",
    "root.insert(7)\n",
    "root.insert(9)\n",
    "root.insert(11)\n",
    "root.insert(13)\n",
    "root.printT()"
   ]
  },
  {
   "cell_type": "code",
   "execution_count": 10,
   "id": "01568325-8e94-485c-8b7c-98da1ec6db93",
   "metadata": {},
   "outputs": [
    {
     "name": "stdout",
     "output_type": "stream",
     "text": [
      "1\n",
      "2\n",
      "3\n",
      "4\n",
      "5\n",
      "6\n",
      "7\n",
      "8\n",
      "9\n",
      "11\n",
      "12\n",
      "13\n"
     ]
    }
   ],
   "source": [
    "root.delete(10)\n",
    "root.printT()"
   ]
  },
  {
   "cell_type": "code",
   "execution_count": 11,
   "id": "2c3d53dc-3f3c-4cb8-ae21-be12ac209763",
   "metadata": {},
   "outputs": [
    {
     "name": "stdout",
     "output_type": "stream",
     "text": [
      "1\n",
      "3\n",
      "4\n",
      "5\n",
      "6\n",
      "7\n",
      "8\n",
      "9\n",
      "11\n",
      "12\n",
      "13\n"
     ]
    }
   ],
   "source": [
    "root.delete(2)\n",
    "root.printT()"
   ]
  },
  {
   "cell_type": "code",
   "execution_count": 12,
   "id": "e16a853c-ad25-489d-9a8e-bdc9c984638a",
   "metadata": {},
   "outputs": [
    {
     "name": "stdout",
     "output_type": "stream",
     "text": [
      "3\n",
      "4\n",
      "5\n",
      "6\n",
      "7\n",
      "8\n",
      "9\n",
      "11\n",
      "12\n",
      "13\n"
     ]
    }
   ],
   "source": [
    "root.delete(1)\n",
    "root.printT()"
   ]
  },
  {
   "cell_type": "code",
   "execution_count": null,
   "id": "8737115a-6046-4918-8bd4-b62195142bd0",
   "metadata": {},
   "outputs": [],
   "source": []
  }
 ],
 "metadata": {
  "kernelspec": {
   "display_name": "Python 3 (ipykernel)",
   "language": "python",
   "name": "python3"
  },
  "language_info": {
   "codemirror_mode": {
    "name": "ipython",
    "version": 3
   },
   "file_extension": ".py",
   "mimetype": "text/x-python",
   "name": "python",
   "nbconvert_exporter": "python",
   "pygments_lexer": "ipython3",
   "version": "3.9.12"
  }
 },
 "nbformat": 4,
 "nbformat_minor": 5
}
