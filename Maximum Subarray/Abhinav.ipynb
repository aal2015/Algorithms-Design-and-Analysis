{
 "cells": [
  {
   "cell_type": "markdown",
   "id": "c135f8a6-5eb8-487e-814c-0d1c2695307e",
   "metadata": {},
   "source": [
    "# Introduction"
   ]
  },
  {
   "cell_type": "markdown",
   "id": "c5b5b09c-6933-4343-bffc-88113167de21",
   "metadata": {},
   "source": [
    "For this assignment, two different solutions were implemented for the maximum subarray problem. The first solution uses the divide-and-conquer approach which was learned during the class. As learned, the theoretical time complexity of the algorithm is <b>O(n log n)</b> where n is the input size. "
   ]
  },
  {
   "cell_type": "markdown",
   "id": "9fd0d85d-c26e-47fd-99bf-b27fc3e408b0",
   "metadata": {},
   "source": [
    "The second algorithm iterates over the array once. Two variables, 'maxSum' and 'current', are declared where 'maxSum' denotes the current maximum subarray sum and 'current' denotes the current sum when iterating through the array. The <b>main logic</b> of this algorithm relies on the fact that when 'current' is less than or equal to 0, we set the current sum to 0. In words, we are saying that the current sum found from the iteration so far won't help to determine the maximum subarray sum and so set it to 0 to start afresh. In a way, the algorithm is ending one subarray and starts a new one. Since the algorithm iterates over all the elements of the array only once, the expected time complexity of it is <b>O(n)</b>."
   ]
  },
  {
   "cell_type": "markdown",
   "id": "b5e3ec88-06cc-4143-987e-fda3a7c6b126",
   "metadata": {},
   "source": [
    "For this assignment, the time complexities of the two algorithms will be compared with the theoretical time complexity of Θ(n log n) which uses divide-and-conquer approach."
   ]
  },
  {
   "cell_type": "markdown",
   "id": "fbd71ece-610e-4f98-b0cd-6382acea0bc3",
   "metadata": {},
   "source": [
    "To plot the time complexity for each algorithm, RAM Model of Computation is used where the total number of steps/instructions is determined for that particular algorithm with different input sizes. Then a plot can be made with the x-axis denoting the input size and the y-axis denoting the total number of steps/instructions."
   ]
  },
  {
   "cell_type": "markdown",
   "id": "3ff868c4-712e-4fe3-8742-41999a65f0f7",
   "metadata": {},
   "source": [
    "# Algorithm 1: Divide-and-Conquer Approach"
   ]
  },
  {
   "cell_type": "markdown",
   "id": "a36c0387-394b-4543-80f9-75f9a26b104b",
   "metadata": {},
   "source": [
    "### Orignal Code"
   ]
  },
  {
   "cell_type": "code",
   "execution_count": 1,
   "id": "d47ca101-0acc-4664-a2c7-1d255ac46221",
   "metadata": {},
   "outputs": [],
   "source": [
    "class MaximumSubarrayAlgo():\n",
    "    def crossMaximumSubarray(self, low, mid, high, array):\n",
    "        leftMaxSum = None\n",
    "        current = 0\n",
    "        left = None\n",
    "        for i in reversed(range(low, mid + 1)):\n",
    "            current += array[i]\n",
    "            if leftMaxSum == None or current > leftMaxSum:\n",
    "                leftMaxSum = current\n",
    "                left = i\n",
    "                \n",
    "        rightMaxSum = None\n",
    "        current = 0\n",
    "        right = None\n",
    "        for i in range(mid + 1, high + 1):\n",
    "            current += array[i]\n",
    "            if rightMaxSum == None or current > rightMaxSum:\n",
    "                rightMaxSum = current\n",
    "                right = i\n",
    "\n",
    "        return (left, right, leftMaxSum + rightMaxSum)\n",
    "        \n",
    "    def findMaximumSubarray(self, low, high, array):\n",
    "        # Base case: when single element is left\n",
    "        if low == high:\n",
    "            return (low, high, array[low])\n",
    "        \n",
    "        # Computing mid point b/w low and high pointer\n",
    "        subarrayLen = low + high\n",
    "        mid = int(subarrayLen / 2)\n",
    "        \n",
    "        lowL, highL, sumL = self.findMaximumSubarray(low, mid, array)\n",
    "        lowH, highH, sumH = self.findMaximumSubarray(mid+1, high, array)\n",
    "        lowC, highC, sumC = self.crossMaximumSubarray(low, mid, high, array)\n",
    "\n",
    "        if sumL >= sumH and sumL >= sumC:\n",
    "            return (lowL, highL, sumL)\n",
    "        elif sumH >= sumL and sumH >= sumC:\n",
    "            return (lowH, highH, sumH)\n",
    "        else:\n",
    "            return (lowC, highC, sumC)"
   ]
  },
  {
   "cell_type": "markdown",
   "id": "ab2928f1-399f-4b0c-8ce3-ea70a7928e49",
   "metadata": {},
   "source": [
    "### 'step' variable added to plot time complexity"
   ]
  },
  {
   "cell_type": "code",
   "execution_count": 2,
   "id": "0286d652-a134-41e5-8aa3-ebc5fc0836e9",
   "metadata": {},
   "outputs": [],
   "source": [
    "class MaximumSubarrayAlgoStep():\n",
    "    def __init__(self,):\n",
    "        self.step = 0\n",
    "    \n",
    "    def crossMaximumSubarray(self, low, mid, high, array):\n",
    "        leftMaxSum = None\n",
    "        current = 0\n",
    "        left = None\n",
    "        self.step += 3 # 3 steps for variable initialization\n",
    "        \n",
    "        for i in reversed(range(low, mid + 1)):\n",
    "            self.step += 1 # step for running range\n",
    "            current += array[i]\n",
    "            self.step += 1 # step for addition\n",
    "            \n",
    "            if leftMaxSum == None or current > leftMaxSum:\n",
    "                leftMaxSum = current\n",
    "                left = i\n",
    "                self.step += 2 # 2 step for variable assignment\n",
    "            self.step += 1 # step for comparision condition\n",
    "        self.step += 1 # step for running range\n",
    "                \n",
    "        rightMaxSum = None\n",
    "        current = 0\n",
    "        right = None\n",
    "        self.step += 3 # 3 steps for variable initialization\n",
    "        for i in range(mid + 1, high + 1):\n",
    "            self.step += 1 # step for running range\n",
    "            current += array[i]\n",
    "            self.step += 1 # step for addition\n",
    "            if rightMaxSum == None or current > rightMaxSum:\n",
    "                rightMaxSum = current\n",
    "                right = i\n",
    "                self.step += 2 # 2 step for variable assignment\n",
    "            self.step += 1 # step for comparision condition\n",
    "        self.step += 1 # step for running range\n",
    "        return (left, right, leftMaxSum + rightMaxSum, self.step)\n",
    "        \n",
    "    def findMaximumSubarray(self, low, high, array):\n",
    "        # Base case: when single element is left\n",
    "        if low == high:\n",
    "            return (low, high, array[low], self.step)\n",
    "        self.step += 1 # step for comparision condition\n",
    "            \n",
    "        # Computing mid point b/w low and high pointer\n",
    "        subarrayLen = low + high\n",
    "        self.step += 1 # step for addition\n",
    "        mid = int(subarrayLen / 2)\n",
    "        self.step += 1 # step for division\n",
    "        \n",
    "        lowL, highL, sumL, steps = self.findMaximumSubarray(low, mid, array)\n",
    "        lowH, highH, sumH, steps = self.findMaximumSubarray(mid+1, high, array)\n",
    "        lowC, highC, sumC, steps = self.crossMaximumSubarray(low, mid, high, array)\n",
    "\n",
    "        if sumL >= sumH and sumL >= sumC:\n",
    "            self.step += 1 # step for comparision condition\n",
    "            return (lowL, highL, sumL, self.step)\n",
    "        elif sumH >= sumL and sumH >= sumC:\n",
    "            self.step += 2 # step for comparision condition 2 times\n",
    "            return (lowH, highH, sumH, self.step)\n",
    "        else:\n",
    "            self.step += 3 # step for comparision condition 3 times\n",
    "            return (lowC, highC, sumC, self.step)"
   ]
  },
  {
   "cell_type": "markdown",
   "id": "3e230c59-8b07-4150-8b8e-6a80cd14fc34",
   "metadata": {},
   "source": [
    "# Algorithm 2: Linear Time Complexity Solution"
   ]
  },
  {
   "cell_type": "markdown",
   "id": "fdad1572-9218-48ef-827e-9932bc4df18e",
   "metadata": {},
   "source": [
    "### Original Code"
   ]
  },
  {
   "cell_type": "code",
   "execution_count": 3,
   "id": "b0725c70-b7eb-49d6-8cea-dfbce6d304cc",
   "metadata": {},
   "outputs": [],
   "source": [
    "class MaximumSubarrayAlgoLinear:\n",
    "    def findMaximumSubarray(self, array):\n",
    "        maxSum = array[0]\n",
    "        current = 0\n",
    "        left = 0\n",
    "        right = 0\n",
    "        \n",
    "        for i in range(len(array)):\n",
    "            current += array[i]\n",
    "            if current > maxSum:\n",
    "                maxSum = current\n",
    "                right = i\n",
    "            if current <= 0:\n",
    "                current = 0\n",
    "                left = i + 1\n",
    "        return (left, right, maxSum)"
   ]
  },
  {
   "cell_type": "markdown",
   "id": "0c376973-7a12-4a09-82c3-7e3a62246281",
   "metadata": {},
   "source": [
    "### 'step' variable added to plot time complexity"
   ]
  },
  {
   "cell_type": "code",
   "execution_count": 4,
   "id": "2c91ab07-d842-4f36-9dbe-b0bf5eab99b6",
   "metadata": {},
   "outputs": [],
   "source": [
    "class MaximumSubarrayAlgoLinearStep:\n",
    "    def __init__(self,):\n",
    "        self.step = 0\n",
    "        \n",
    "    def findMaximumSubarray(self, array):\n",
    "        maxSum = array[0]\n",
    "        current = 0\n",
    "        left = 0\n",
    "        right = 0\n",
    "        self.step += 4 # 4 steps for variable initialization\n",
    "        \n",
    "        for i in range(len(array)):\n",
    "            self.step += 1 # step for running range\n",
    "            current += array[i]\n",
    "            self.step += 1 # 1 steps for variable initialization\n",
    "            \n",
    "            if current > maxSum:\n",
    "                maxSum = current\n",
    "                right = i\n",
    "                self.step += 2 # 2 step for variable assignment\n",
    "            self.step += 1 # steps for comparision condition\n",
    "            \n",
    "            if current <= 0:\n",
    "                current = 0\n",
    "                left = i + 1\n",
    "                self.step += 2 # 2 step for variable assignment\n",
    "            self.step += 1 # steps for comparision condition\n",
    "                \n",
    "            \n",
    "        return (left, right, maxSum, self.step)\n",
    "    \n",
    "    "
   ]
  },
  {
   "cell_type": "markdown",
   "id": "89f18a53-8279-429f-8a51-ec53dd0dba56",
   "metadata": {},
   "source": [
    "### Inputs"
   ]
  },
  {
   "cell_type": "code",
   "execution_count": 5,
   "id": "ae97e8f8-acd5-4af3-903f-8efe60aecc58",
   "metadata": {},
   "outputs": [],
   "source": [
    "test_input = [[-2], [1, 2], [1, -5, 4], [2, 1, -5, 4], [9, -5, 8, -1, 4], [-5, 1, 2, 9, -5, 8],[2, -1, 4, -5, 4, 3, -1], [18, 20, -7, 12, -5, -22, 15], [2, 1, -3, 4, -1, 2, 1, -5, 4], [2, -1, 4, -5, 4, 3, -1, -5, 1, 2, 9, -5, 8], [13, -3, -25, 20, -3, -116, -23, 18, 20, -7, 12, -5, -22, 15, -4, 7], \n",
    "              [1, -2, 3, 4, 5, -6, 7, -8, 9, -10, 11, -12, 13, -14, 15, 16, 17, -18, 19, -20], [18, 20, -7, 12, -5, -22, 15, 18, 20, -7, 12, -5, -22, 15, 18, 20, -7, 12, -5, -22, 15], [18, 20, -7, 12, -5, -22, 15, 18, 20, -7, 9, -5, 8, -1, 4, 12, -5, -22, 15, 18, 20, -7, 12, -5, -22, 15],\n",
    "             [1, -2, 3, 4, 5, -6, 7, -8, 9, -10, 11, -12, 13, -14, 15, 16, 17, -18, 19, -20, 18, 20, -7, 12, -5, -22, 15, 18, 20, -7, 12, -5, -22, 15, 18, 20, -7, 12, -5, -22, 15]]"
   ]
  },
  {
   "cell_type": "markdown",
   "id": "bf2aca2e-eb66-4eca-9fa8-7b312f4c8bf4",
   "metadata": {},
   "source": [
    "### Running Divide-and-Conquer Approach Algorithm on Inputs"
   ]
  },
  {
   "cell_type": "code",
   "execution_count": 6,
   "id": "9c9543f3-fe9b-40db-aa7b-e15e54449a8f",
   "metadata": {},
   "outputs": [],
   "source": [
    "maximumSubarrayAlgo = MaximumSubarrayAlgoStep()"
   ]
  },
  {
   "cell_type": "code",
   "execution_count": 7,
   "id": "20da6af6-2e2d-488e-9781-ec7171313359",
   "metadata": {},
   "outputs": [
    {
     "name": "stdout",
     "output_type": "stream",
     "text": [
      "Array:  [-2]\n",
      "Maximum Subarray:  -2\n",
      "Indices:  (0, 0)\n",
      "\n",
      "Array:  [1, 2]\n",
      "Maximum Subarray:  3\n",
      "Indices:  (0, 1)\n",
      "\n",
      "Array:  [1, -5, 4]\n",
      "Maximum Subarray:  4\n",
      "Indices:  (2, 2)\n",
      "\n",
      "Array:  [2, 1, -5, 4]\n",
      "Maximum Subarray:  4\n",
      "Indices:  (3, 3)\n",
      "\n",
      "Array:  [9, -5, 8, -1, 4]\n",
      "Maximum Subarray:  15\n",
      "Indices:  (0, 4)\n",
      "\n",
      "Array:  [-5, 1, 2, 9, -5, 8]\n",
      "Maximum Subarray:  15\n",
      "Indices:  (1, 5)\n",
      "\n",
      "Array:  [2, -1, 4, -5, 4, 3, -1]\n",
      "Maximum Subarray:  7\n",
      "Indices:  (4, 5)\n",
      "\n",
      "Array:  [18, 20, -7, 12, -5, -22, 15]\n",
      "Maximum Subarray:  43\n",
      "Indices:  (0, 3)\n",
      "\n",
      "Array:  [2, 1, -3, 4, -1, 2, 1, -5, 4]\n",
      "Maximum Subarray:  6\n",
      "Indices:  (3, 6)\n",
      "\n",
      "Array:  [2, -1, 4, -5, 4, 3, -1, -5, 1, 2, 9, -5, 8]\n",
      "Maximum Subarray:  16\n",
      "Indices:  (4, 12)\n",
      "\n",
      "Array:  [13, -3, -25, 20, -3, -116, -23, 18, 20, -7, 12, -5, -22, 15, -4, 7]\n",
      "Maximum Subarray:  43\n",
      "Indices:  (7, 10)\n",
      "\n",
      "Array:  [1, -2, 3, 4, 5, -6, 7, -8, 9, -10, 11, -12, 13, -14, 15, 16, 17, -18, 19, -20]\n",
      "Maximum Subarray:  51\n",
      "Indices:  (2, 18)\n",
      "\n",
      "Array:  [18, 20, -7, 12, -5, -22, 15, 18, 20, -7, 12, -5, -22, 15, 18, 20, -7, 12, -5, -22, 15]\n",
      "Maximum Subarray:  105\n",
      "Indices:  (0, 17)\n",
      "\n",
      "Array:  [18, 20, -7, 12, -5, -22, 15, 18, 20, -7, 9, -5, 8, -1, 4, 12, -5, -22, 15, 18, 20, -7, 12, -5, -22, 15]\n",
      "Maximum Subarray:  120\n",
      "Indices:  (0, 22)\n",
      "\n",
      "Array:  [1, -2, 3, 4, 5, -6, 7, -8, 9, -10, 11, -12, 13, -14, 15, 16, 17, -18, 19, -20, 18, 20, -7, 12, -5, -22, 15, 18, 20, -7, 12, -5, -22, 15, 18, 20, -7, 12, -5, -22, 15]\n",
      "Maximum Subarray:  136\n",
      "Indices:  (2, 37)\n",
      "\n"
     ]
    }
   ],
   "source": [
    "inputSize = []\n",
    "totalNumberOfSteps = []\n",
    "\n",
    "for Input in test_input:\n",
    "    result = maximumSubarrayAlgo.findMaximumSubarray(0, len(Input) - 1, Input)\n",
    "    print(\"Array: \", Input)\n",
    "    print(\"Maximum Subarray: \", result[2])\n",
    "    print(\"Indices: \", result[:2], end=\"\\n\\n\")\n",
    "    inputSize.append(len(Input))\n",
    "    totalNumberOfSteps.append(result[3])"
   ]
  },
  {
   "cell_type": "markdown",
   "id": "8bc2458d-4969-436e-8722-e85ad61a8a85",
   "metadata": {},
   "source": [
    "### Running Linear Time Complexity Solution Algorithm on Inputs"
   ]
  },
  {
   "cell_type": "code",
   "execution_count": 8,
   "id": "206813f7-8e18-468c-97a6-8054b228c346",
   "metadata": {},
   "outputs": [],
   "source": [
    "maximumSubarrayAlgo = MaximumSubarrayAlgoLinearStep()"
   ]
  },
  {
   "cell_type": "code",
   "execution_count": 9,
   "id": "9f4ad64f-d813-48f7-b13d-a5c5424f3244",
   "metadata": {},
   "outputs": [
    {
     "name": "stdout",
     "output_type": "stream",
     "text": [
      "Array:  [-2]\n",
      "Maximum Subarray:  -2\n",
      "Indices:  (1, 0)\n",
      "\n",
      "Array:  [1, 2]\n",
      "Maximum Subarray:  3\n",
      "Indices:  (0, 1)\n",
      "\n",
      "Array:  [1, -5, 4]\n",
      "Maximum Subarray:  4\n",
      "Indices:  (2, 2)\n",
      "\n",
      "Array:  [2, 1, -5, 4]\n",
      "Maximum Subarray:  4\n",
      "Indices:  (3, 3)\n",
      "\n",
      "Array:  [9, -5, 8, -1, 4]\n",
      "Maximum Subarray:  15\n",
      "Indices:  (0, 4)\n",
      "\n",
      "Array:  [-5, 1, 2, 9, -5, 8]\n",
      "Maximum Subarray:  15\n",
      "Indices:  (1, 5)\n",
      "\n",
      "Array:  [2, -1, 4, -5, 4, 3, -1]\n",
      "Maximum Subarray:  7\n",
      "Indices:  (4, 5)\n",
      "\n",
      "Array:  [18, 20, -7, 12, -5, -22, 15]\n",
      "Maximum Subarray:  43\n",
      "Indices:  (0, 3)\n",
      "\n",
      "Array:  [2, 1, -3, 4, -1, 2, 1, -5, 4]\n",
      "Maximum Subarray:  6\n",
      "Indices:  (3, 6)\n",
      "\n",
      "Array:  [2, -1, 4, -5, 4, 3, -1, -5, 1, 2, 9, -5, 8]\n",
      "Maximum Subarray:  16\n",
      "Indices:  (4, 12)\n",
      "\n",
      "Array:  [13, -3, -25, 20, -3, -116, -23, 18, 20, -7, 12, -5, -22, 15, -4, 7]\n",
      "Maximum Subarray:  43\n",
      "Indices:  (7, 10)\n",
      "\n",
      "Array:  [1, -2, 3, 4, 5, -6, 7, -8, 9, -10, 11, -12, 13, -14, 15, 16, 17, -18, 19, -20]\n",
      "Maximum Subarray:  51\n",
      "Indices:  (2, 18)\n",
      "\n",
      "Array:  [18, 20, -7, 12, -5, -22, 15, 18, 20, -7, 12, -5, -22, 15, 18, 20, -7, 12, -5, -22, 15]\n",
      "Maximum Subarray:  105\n",
      "Indices:  (0, 17)\n",
      "\n",
      "Array:  [18, 20, -7, 12, -5, -22, 15, 18, 20, -7, 9, -5, 8, -1, 4, 12, -5, -22, 15, 18, 20, -7, 12, -5, -22, 15]\n",
      "Maximum Subarray:  120\n",
      "Indices:  (0, 22)\n",
      "\n",
      "Array:  [1, -2, 3, 4, 5, -6, 7, -8, 9, -10, 11, -12, 13, -14, 15, 16, 17, -18, 19, -20, 18, 20, -7, 12, -5, -22, 15, 18, 20, -7, 12, -5, -22, 15, 18, 20, -7, 12, -5, -22, 15]\n",
      "Maximum Subarray:  136\n",
      "Indices:  (2, 37)\n",
      "\n"
     ]
    }
   ],
   "source": [
    "inputSizeLinear = []\n",
    "totalNumberOfStepsLinear = []\n",
    "\n",
    "for Input in test_input:\n",
    "    result = maximumSubarrayAlgo.findMaximumSubarray(Input)\n",
    "    print(\"Array: \", Input)\n",
    "    print(\"Maximum Subarray: \", result[2])\n",
    "    print(\"Indices: \", result[:2], end=\"\\n\\n\")\n",
    "    inputSizeLinear.append(len(Input))\n",
    "    totalNumberOfStepsLinear.append(result[3])"
   ]
  },
  {
   "cell_type": "markdown",
   "id": "bec34ac7-144d-4f18-8b13-7b0a7182e42b",
   "metadata": {},
   "source": [
    "# Plotting Time Complexity"
   ]
  },
  {
   "cell_type": "code",
   "execution_count": 10,
   "id": "c5b32b29-5863-4518-acde-9679922ca368",
   "metadata": {},
   "outputs": [],
   "source": [
    "import matplotlib.pyplot as plt\n",
    "import numpy as np"
   ]
  },
  {
   "cell_type": "markdown",
   "id": "d69aeea8-1d9d-4dbe-82d3-bfdeaca78c58",
   "metadata": {},
   "source": [
    "### Storing x and y values of Θ(n log n) Time Complexity as Input Size Increases"
   ]
  },
  {
   "cell_type": "code",
   "execution_count": 11,
   "id": "389d4e2c-3fe3-43b3-a4de-8057a5386dc0",
   "metadata": {},
   "outputs": [],
   "source": [
    "inputSizeTheoretical = []\n",
    "totalNumberOfStepsTheoretical = []\n",
    "\n",
    "for i in range(1, max(inputSize)):\n",
    "    inputSizeTheoretical.append(i)\n",
    "    totalNumberOfStepsTheoretical.append(i*np.log(i))"
   ]
  },
  {
   "cell_type": "markdown",
   "id": "d1dc8b57-93de-44d7-98fb-d1afe906941d",
   "metadata": {},
   "source": [
    "### Converting List into Numpy Arrays"
   ]
  },
  {
   "cell_type": "code",
   "execution_count": 12,
   "id": "a9254a19-74db-45a7-a150-df7220d143a3",
   "metadata": {},
   "outputs": [],
   "source": [
    "x, y = np.array(inputSize), np.array(totalNumberOfSteps)\n",
    "xLinear, yLinear = np.array(inputSizeLinear), np.array(totalNumberOfStepsLinear)\n",
    "xTheoretical, yTheoretical = np.array(inputSizeTheoretical), np.array(totalNumberOfStepsTheoretical)"
   ]
  },
  {
   "cell_type": "markdown",
   "id": "795bfc13-1a7f-4f5c-9cbb-5857452d55c0",
   "metadata": {},
   "source": [
    "### Algorithm 1: Divide-and-Conquer Approach vs Theoretical Time Complexity"
   ]
  },
  {
   "cell_type": "code",
   "execution_count": 13,
   "id": "ae209f6b-8f22-4dc3-87c4-e8c98db3072f",
   "metadata": {},
   "outputs": [
    {
     "data": {
      "image/png": "[encoded data removed]",
      "text/plain": [
       "<Figure size 432x288 with 1 Axes>"
      ]
     },
     "metadata": {
      "needs_background": "light"
     },
     "output_type": "display_data"
    }
   ],
   "source": [
    "plt.plot(x, (1/50)*y)\n",
    "plt.plot(xTheoretical, yTheoretical)\n",
    "plt.xlabel(\"Input Size\")\n",
    "plt.ylabel(\"Total Number of Operations/Steps\")\n",
    "plt.legend(['Algorithm 1 Time Complexity', 'Theoretical Time Complexity'])\n",
    "plt.show()\n"
   ]
  },
  {
   "cell_type": "markdown",
   "id": "87962cba-5dbf-42ea-89b8-022e175a6292",
   "metadata": {},
   "source": [
    "### Algorithm 2: Linear Time Complexity Solution vs Theoretical Time Complexity"
   ]
  },
  {
   "cell_type": "code",
   "execution_count": 14,
   "id": "699f09b2-53ca-4bd7-885f-ee03882f5c29",
   "metadata": {},
   "outputs": [
    {
     "data": {
      "image/png": "[encoded data removed]",
      "text/plain": [
       "<Figure size 432x288 with 1 Axes>"
      ]
     },
     "metadata": {
      "needs_background": "light"
     },
     "output_type": "display_data"
    }
   ],
   "source": [
    "plt.plot(xLinear, (1/50)*yLinear)\n",
    "plt.plot(xTheoretical, yTheoretical)\n",
    "plt.xlabel(\"Input Size\")\n",
    "plt.ylabel(\"Total Number of Operations/Steps\")\n",
    "plt.legend(['Algorithm 1 Time Complexity', 'Theoretical Time Complexity'])\n",
    "plt.legend(['Algorithm 2 Time Complexity', 'Theoretical Time Complexity'])\n",
    "plt.show()"
   ]
  },
  {
   "cell_type": "markdown",
   "id": "11f06164-5ba2-41a5-aea3-20f15b77da94",
   "metadata": {},
   "source": [
    "### Algorithm 1 vs Algorithm 2 vs Theoretical Time Complexity"
   ]
  },
  {
   "cell_type": "code",
   "execution_count": 15,
   "id": "0cc7c0fa-59b5-46ba-8139-577e301d35f7",
   "metadata": {},
   "outputs": [
    {
     "data": {
      "image/png": "[encoded data removed]",
      "text/plain": [
       "<Figure size 432x288 with 1 Axes>"
      ]
     },
     "metadata": {
      "needs_background": "light"
     },
     "output_type": "display_data"
    }
   ],
   "source": [
    "plt.plot(x, (1/50)*y)\n",
    "plt.plot(xLinear, (1/50)*yLinear)\n",
    "plt.plot(xTheoretical, yTheoretical)\n",
    "plt.xlabel(\"Input Size\")\n",
    "plt.ylabel(\"Total Number of Operations/Steps\")\n",
    "plt.legend(['Algorithm 1 Time Complexity', 'Theoretical Time Complexity'])\n",
    "plt.legend(['Algorithm 1 Time Complexity', 'Algorithm 2 Time Complexity', 'Theoretical Time Complexity'])\n",
    "plt.show()"
   ]
  },
  {
   "cell_type": "code",
   "execution_count": null,
   "id": "11f9186f-ed4d-4367-a0b1-ad9ab74708b6",
   "metadata": {},
   "outputs": [],
   "source": []
  },
  {
   "cell_type": "markdown",
   "id": "9a988a83-e3e1-4f6d-9baf-d9d7361bb6fb",
   "metadata": {},
   "source": [
    "# Conclusion"
   ]
  },
  {
   "cell_type": "markdown",
   "id": "34ec8258-257b-4b9c-b65b-7d1291bbf2f7",
   "metadata": {},
   "source": [
    "From the implementation, I have noted that the time complexity of the first algorithm which uses the divide-and-conquer approach is quite similar to the theoretical time complexity O(n log n). This is expected since the theoretical time complexity is the time complexity of the algorithm which itself implements the divide-and-conquer approach. The second algorithm as indicated from the third plot at first takes more time than the first for the small size of the input. However, as the input size increases, it starts to take much less time, and also the time complexity grows at a much slower pace as it has the estimated time complexity of O(n). Hence, the second algorithm is more optimal for finding the maximum subarray sum as the input size grows."
   ]
  },
  {
   "cell_type": "markdown",
   "id": "e656c136-1e66-4410-932c-c2a8a46edd84",
   "metadata": {},
   "source": [
    "To answer the question of the assignment, the first algorithm is quite close to the theoritical time complexity value of O(n log n) as while the second algorithm follows "
   ]
  }
 ],
 "metadata": {
  "kernelspec": {
   "display_name": "Python 3 (ipykernel)",
   "language": "python",
   "name": "python3"
  },
  "language_info": {
   "codemirror_mode": {
    "name": "ipython",
    "version": 3
   },
   "file_extension": ".py",
   "mimetype": "text/x-python",
   "name": "python",
   "nbconvert_exporter": "python",
   "pygments_lexer": "ipython3",
   "version": "3.9.12"
  }
 },
 "nbformat": 4,
 "nbformat_minor": 5
}
