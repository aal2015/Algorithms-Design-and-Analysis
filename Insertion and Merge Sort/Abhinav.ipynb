{
 "cells": [
  {
   "cell_type": "code",
   "execution_count": 1,
   "id": "a99ecf3e-de22-4883-85bc-4559e53dca31",
   "metadata": {},
   "outputs": [],
   "source": [
    "import copy"
   ]
  },
  {
   "cell_type": "code",
   "execution_count": 2,
   "id": "23259de4-ee7a-46ac-8342-672c7be78747",
   "metadata": {},
   "outputs": [],
   "source": [
    "test_inputs = [[1, 4, 6, 2, 5], [12, 11, 13, 5, 6, 7], [8, 7, 6, 5, 4, 3, 2, 1], [52, 39, 80, 12, 21, 70]]"
   ]
  },
  {
   "cell_type": "code",
   "execution_count": 3,
   "id": "488e6020-7836-4f42-bf21-7c97a327ab55",
   "metadata": {},
   "outputs": [
    {
     "data": {
      "text/plain": [
       "[[1, 4, 6, 2, 5],\n",
       " [12, 11, 13, 5, 6, 7],\n",
       " [8, 7, 6, 5, 4, 3, 2, 1],\n",
       " [52, 39, 80, 12, 21, 70]]"
      ]
     },
     "execution_count": 3,
     "metadata": {},
     "output_type": "execute_result"
    }
   ],
   "source": [
    "test_inputs"
   ]
  },
  {
   "cell_type": "markdown",
   "id": "d3725ce6-8557-4dcc-ad82-a544b869cea0",
   "metadata": {},
   "source": [
    "# Merge Sort"
   ]
  },
  {
   "cell_type": "code",
   "execution_count": 4,
   "id": "ef708a96-1807-4694-b0b4-dacec8f56d47",
   "metadata": {},
   "outputs": [],
   "source": [
    "class MergeSort():\n",
    "    def merge(self, array, left, mid, right):\n",
    "        arrayL = [None] * (mid - left + 1)\n",
    "        arrayR = [None] * (right - mid)\n",
    "        \n",
    "        for i in range(left, mid + 1):\n",
    "            arrayL[i - left] =  array[i]\n",
    "        for i in range(mid + 1, right + 1):\n",
    "            arrayR[i - mid - 1] = array[i]\n",
    "        \n",
    "        L, R = 0, 0\n",
    "        A = left\n",
    "        \n",
    "        while (L < len(arrayL)) and (R < len(arrayR)):\n",
    "            if arrayL[L] < arrayR[R]:\n",
    "                array[A] = arrayL[L]\n",
    "                L += 1\n",
    "            else:\n",
    "                array[A] = arrayR[R]\n",
    "                R += 1\n",
    "            A += 1\n",
    "            \n",
    "            \n",
    "        while L < len(arrayL):\n",
    "            array[A] = arrayL[L]\n",
    "            L += 1\n",
    "            A += 1\n",
    "        \n",
    "        while R < len(arrayR):\n",
    "            array[A] = arrayR[R]\n",
    "            R += 1\n",
    "            A += 1\n",
    "        \n",
    "    def mergeSort(self, array, left, right):\n",
    "        if left == right:\n",
    "            return\n",
    "        size = left + right\n",
    "        mid = int(size / 2)\n",
    "        self.mergeSort(array, left, mid)\n",
    "        self.mergeSort(array, mid+1, right)\n",
    "        self.merge(array, left, mid, right)"
   ]
  },
  {
   "cell_type": "code",
   "execution_count": 5,
   "id": "5983ad7e-58f0-48eb-848b-1d5f65545628",
   "metadata": {},
   "outputs": [],
   "source": [
    "mergeSortAlgo = MergeSort()"
   ]
  },
  {
   "cell_type": "code",
   "execution_count": 6,
   "id": "0598fe09-c07f-41f1-9fe3-c92aa791d372",
   "metadata": {},
   "outputs": [
    {
     "name": "stdout",
     "output_type": "stream",
     "text": [
      "Original:  [1, 4, 6, 2, 5]\n",
      "Sorted List:  [1, 2, 4, 5, 6]\n",
      "\n",
      "Original:  [12, 11, 13, 5, 6, 7]\n",
      "Sorted List:  [5, 6, 7, 11, 12, 13]\n",
      "\n",
      "Original:  [8, 7, 6, 5, 4, 3, 2, 1]\n",
      "Sorted List:  [1, 2, 3, 4, 5, 6, 7, 8]\n",
      "\n",
      "Original:  [52, 39, 80, 12, 21, 70]\n",
      "Sorted List:  [12, 21, 39, 52, 70, 80]\n",
      "\n"
     ]
    }
   ],
   "source": [
    "test_inputs_copy = copy.deepcopy(test_inputs)\n",
    "for Input in test_inputs_copy:\n",
    "    print(\"Original: \", end=\" \")\n",
    "    print(Input)\n",
    "    mergeSortAlgo.mergeSort(Input, 0, len(Input) - 1)\n",
    "    \n",
    "    print(\"Sorted List: \", end=\" \")\n",
    "    print(Input, end=\"\\n\\n\")"
   ]
  },
  {
   "cell_type": "code",
   "execution_count": null,
   "id": "9cd6035b-d519-44ba-b9ac-c020d0dfa850",
   "metadata": {},
   "outputs": [],
   "source": []
  },
  {
   "cell_type": "markdown",
   "id": "c1777065-94b9-40ed-bbc7-87807a247071",
   "metadata": {},
   "source": [
    "# Insertion Sort"
   ]
  },
  {
   "cell_type": "code",
   "execution_count": 7,
   "id": "1f3fc626-d497-4dba-ba89-8de2e0ebaddc",
   "metadata": {},
   "outputs": [],
   "source": [
    "class InsertionSort():\n",
    "    def insertionSort(self, array):\n",
    "        for pointer in range(1, len(array)):\n",
    "            value = array[pointer]\n",
    "            i = pointer - 1\n",
    "            while i >= 0 and array[i] > value:\n",
    "                array[i + 1] = array[i]\n",
    "                i -= 1\n",
    "            array[i + 1] = value\n",
    "            "
   ]
  },
  {
   "cell_type": "code",
   "execution_count": 8,
   "id": "f301b70c-a282-4453-bed2-b4d407a6677b",
   "metadata": {},
   "outputs": [],
   "source": [
    "insertionSortAlgo = InsertionSort()"
   ]
  },
  {
   "cell_type": "code",
   "execution_count": 9,
   "id": "770f5d3e-004f-4d7e-9abc-35c314ac3a7f",
   "metadata": {},
   "outputs": [
    {
     "name": "stdout",
     "output_type": "stream",
     "text": [
      "Original:  [1, 4, 6, 2, 5]\n",
      "Sorted List:  [1, 2, 4, 5, 6]\n",
      "\n",
      "Original:  [12, 11, 13, 5, 6, 7]\n",
      "Sorted List:  [5, 6, 7, 11, 12, 13]\n",
      "\n",
      "Original:  [8, 7, 6, 5, 4, 3, 2, 1]\n",
      "Sorted List:  [1, 2, 3, 4, 5, 6, 7, 8]\n",
      "\n",
      "Original:  [52, 39, 80, 12, 21, 70]\n",
      "Sorted List:  [12, 21, 39, 52, 70, 80]\n",
      "\n"
     ]
    }
   ],
   "source": [
    "test_inputs_copy = copy.deepcopy(test_inputs)\n",
    "for Input in test_inputs_copy:\n",
    "    print(\"Original: \", end=\" \")\n",
    "    print(Input)\n",
    "    insertionSortAlgo.insertionSort(Input)\n",
    "    \n",
    "    print(\"Sorted List: \", end=\" \")\n",
    "    print(Input, end=\"\\n\\n\")"
   ]
  },
  {
   "cell_type": "code",
   "execution_count": null,
   "id": "3d14f902-21c1-4a09-b9d4-b0bb41f3f18a",
   "metadata": {},
   "outputs": [],
   "source": []
  }
 ],
 "metadata": {
  "kernelspec": {
   "display_name": "Python 3 (ipykernel)",
   "language": "python",
   "name": "python3"
  },
  "language_info": {
   "codemirror_mode": {
    "name": "ipython",
    "version": 3
   },
   "file_extension": ".py",
   "mimetype": "text/x-python",
   "name": "python",
   "nbconvert_exporter": "python",
   "pygments_lexer": "ipython3",
   "version": "3.9.12"
  }
 },
 "nbformat": 4,
 "nbformat_minor": 5
}
